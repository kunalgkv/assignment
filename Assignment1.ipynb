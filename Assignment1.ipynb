{
 "cells": [
  {
   "cell_type": "markdown",
   "metadata": {},
   "source": [
    "# Assignment 1"
   ]
  },
  {
   "cell_type": "markdown",
   "metadata": {},
   "source": [
    "A1. Example that creates variables of different data types:\n",
    "\n",
    "\n",
    "# (i) string\n",
    "my_string = \"Hello, PW!\"\n",
    "\n",
    "# (ii) list\n",
    "my_list = [1, 2, 3, 4, 5]\n",
    "\n",
    "# (iii) float\n",
    "my_float = 3.14\n",
    "\n",
    "(iv) tuple\n",
    "my_tuple = (10, 20, 30, 40, 50)\n",
    "\n",
    "\n",
    "A2. The data types of the given variables are as follows:\n",
    "\n",
    "(i) `var1` is a string.\n",
    "(ii) `var2` is a string.\n",
    "(iii) `var3` is a list.\n",
    "(iv) `var4` is a float.\n",
    "\n",
    "A3. Operators:\n",
    "\n",
    "(i) `/` - Division Operator:\n",
    "The `/` operator is used for division. It performs floating-point division, meaning it returns the quotient as a float.\n",
    "\n",
    "Example:\n",
    "```python\n",
    "a = 10\n",
    "b = 3\n",
    "result = a / b\n",
    "print(result)  # Output: 3.3333333333333335\n",
    "```\n",
    "\n",
    "(ii) `%` - Modulo Operator:\n",
    "The `%` operator returns the remainder of the division operation. It can be used to check divisibility or extract digits.\n",
    "\n",
    "Example:\n",
    "\n",
    "a = 10\n",
    "b = 3\n",
    "result = a % b\n",
    "print(result)  # Output: 1\n",
    "\n",
    "\n",
    "(iii) `//` - Floor Division Operator:\n",
    "The `//` operator performs integer division and returns the largest possible integer quotient.\n",
    "\n",
    "Example:\n",
    "\n",
    "a = 10\n",
    "b = 3\n",
    "result = a // b\n",
    "print(result)  # Output: 3\n",
    "\n",
    "\n",
    "(iv) `**` - Exponentiation Operator:\n",
    "The `**` operator is used for exponentiation. It raises the first operand to the power of the second operand.\n",
    "\n",
    "Example:\n",
    "\n",
    "a = 2\n",
    "b = 3\n",
    "result = a ** b\n",
    "print(result)  # Output: 8\n",
    "\n",
    "\n",
    "A4. Example of creating a list of length 10 with multiple types of data and printing each element along with its data type using a for loop:\n",
    "\n",
    "\n",
    "my_list = [1, 'Hello', 3.14, True, [1, 2, 3], {'name': 'John'}, (1, 2, 3), None, 'world', False]\n",
    "\n",
    "for item in my_list:\n",
    "    print(item, type(item))\n",
    "\n",
    "\n",
    "Output:\n",
    "\n",
    "1 <class 'int'>\n",
    "Hello <class 'str'>\n",
    "3.14 <class 'float'>\n",
    "True <class 'bool'>\n",
    "[1, 2, 3] <class 'list'>\n",
    "{'name': 'John'} <class 'dict'>\n",
    "(1, 2, 3) <class 'tuple'>\n",
    "None <class 'NoneType'>\n",
    "world <class 'str'>\n",
    "False <class 'bool'>\n",
    "\n",
    "\n",
    "A5. Example using a while loop to check if a number A is divisible by number B and calculate how many times it can be divided:\n",
    "\n",
    "\n",
    "A = 20\n",
    "B = 4\n",
    "count = 0\n",
    "\n",
    "while A % B == 0:\n",
    "    A = A // B\n",
    "    count += 1\n",
    "\n",
    "print(\"A is divisible by B\", count, \"times\")\n",
    "\n",
    "\n",
    "Output:\n",
    "\n",
    "A is divisible by B 2 times\n",
    "\n",
    "\n",
    "A6. Example that creates a list containing 25 integer data and uses a for loop with an if-else condition to check if each element is divisible by 3:\n",
    "\n",
    "\n",
    "my_list = list(range(1, 26))\n",
    "\n",
    "for num in\n",
    "\n",
    " my_list:\n",
    "    if num % 3 == 0:\n",
    "        print(num, \"is divisible by 3\")\n",
    "    else:\n",
    "        print(num, \"is not divisible by 3\")\n",
    "\n",
    "\n",
    "Output:\n",
    "\n",
    "1 is not divisible by 3\n",
    "2 is not divisible by 3\n",
    "3 is divisible by 3\n",
    "4 is not divisible by 3\n",
    "5 is not divisible by 3\n",
    "6 is divisible by 3\n",
    "7 is not divisible by 3\n",
    "8 is not divisible by 3\n",
    "9 is divisible by 3\n",
    "10 is not divisible by 3\n",
    "11 is not divisible by 3\n",
    "12 is divisible by 3\n",
    "13 is not divisible by 3\n",
    "14 is not divisible by 3\n",
    "15 is divisible by 3\n",
    "16 is not divisible by 3\n",
    "17 is not divisible by 3\n",
    "18 is divisible by 3\n",
    "19 is not divisible by 3\n",
    "20 is not divisible by 3\n",
    "21 is divisible by 3\n",
    "22 is not divisible by 3\n",
    "23 is not divisible by 3\n",
    "24 is divisible by 3\n",
    "25 is not divisible by 3\n",
    "\n",
    "\n",
    "A7. In Python, mutable and immutable are properties of objects.\n",
    "\n",
    "Mutable Data Types:\n",
    "Mutable data types can be modified after they are created. Any changes made to the object will be reflected in its memory location. Examples of mutable data types in Python include lists, dictionaries, and sets.\n",
    "\n",
    "Example:\n",
    "\n",
    "my_list = [1, 2, 3]\n",
    "my_list.append(4)\n",
    "print(my_list)  # Output: [1, 2, 3, 4]\n",
    "\n",
    "my_dict = {'name': 'John'}\n",
    "my_dict['age'] = 25\n",
    "print(my_dict)  # Output: {'name': 'John', 'age': 25}\n",
    "\n",
    "\n",
    "Immutable Data Types:\n",
    "Immutable data types cannot be modified once they are created. Any operation that appears to modify an immutable object actually creates a new object. Examples of immutable data types in Python include strings, integers, floats, and tuples.\n",
    "\n",
    "Example:\n",
    "\n",
    "my_string = \"Hello\"\n",
    "my_string = my_string + \" World\"\n",
    "print(my_string)  # Output: Hello World\n",
    "\n",
    "my_tuple = (1, 2, 3)\n",
    "new_tuple = my_tuple + (4,)\n",
    "print(new_tuple)  # Output: (1, 2, 3, 4)\n",
    "\n",
    "\n",
    "In both examples, the original objects (string, tuple) were not modified. Instead, new objects were created and assigned to the same variable names.`[Tip]: To execute the Python code in the code cell below, click on the cell to select it and press Shift + Enter.`"
   ]
  },
  {
   "cell_type": "code",
   "execution_count": 1,
   "metadata": {},
   "outputs": [
    {
     "name": "stdout",
     "output_type": "stream",
     "text": [
      "Hello, Neurons.\n"
     ]
    }
   ],
   "source": [
    "# Try your first python code\n",
    "\n",
    "print('Hello, Neurons.')"
   ]
  },
  {
   "cell_type": "markdown",
   "metadata": {},
   "source": [
    "- After executing the cell above, you should see that Python prints `Hello, Neurons` Congratulations on running your Python code!"
   ]
  },
  {
   "cell_type": "code",
   "execution_count": 2,
   "metadata": {},
   "outputs": [
    {
     "name": "stdout",
     "output_type": "stream",
     "text": [
      "3.9.12 (main, Apr  4 2022, 05:22:27) [MSC v.1916 64 bit (AMD64)]\n"
     ]
    }
   ],
   "source": [
    "# Check the Python Version\n",
    "\n",
    "import sys\n",
    "print(sys.version)"
   ]
  },
  {
   "cell_type": "markdown",
   "metadata": {},
   "source": [
    "To write comments in Python, use the number symbol `#` before writing your comment. When you run your code, Python will ignore everything past the # on a given line."
   ]
  },
  {
   "cell_type": "code",
   "execution_count": 3,
   "metadata": {},
   "outputs": [],
   "source": [
    "# print('Hi')"
   ]
  },
  {
   "cell_type": "code",
   "execution_count": 4,
   "metadata": {},
   "outputs": [],
   "source": [
    "# create a function\n",
    "def addition(a, b):\n",
    "    '''\n",
    "    This is a function is to perform addition operation\n",
    "    '''\n",
    "    print('Performing addition operation')\n",
    "    output = a + b\n",
    "    print(f'{a} + {b} is =', output)\n",
    "    return output"
   ]
  },
  {
   "cell_type": "code",
   "execution_count": 5,
   "metadata": {},
   "outputs": [
    {
     "name": "stdout",
     "output_type": "stream",
     "text": [
      "Performing addition operation\n",
      "2 + 1 is = 3\n"
     ]
    },
    {
     "data": {
      "text/plain": [
       "3"
      ]
     },
     "execution_count": 5,
     "metadata": {},
     "output_type": "execute_result"
    }
   ],
   "source": [
    "addition(2, 1)"
   ]
  },
  {
   "cell_type": "code",
   "execution_count": null,
   "metadata": {},
   "outputs": [],
   "source": []
  }
 ],
 "metadata": {
  "kernelspec": {
   "display_name": "Python 3 (ipykernel)",
   "language": "python",
   "name": "python3"
  },
  "language_info": {
   "codemirror_mode": {
    "name": "ipython",
    "version": 3
   },
   "file_extension": ".py",
   "mimetype": "text/x-python",
   "name": "python",
   "nbconvert_exporter": "python",
   "pygments_lexer": "ipython3",
   "version": "3.10.8"
  }
 },
 "nbformat": 4,
 "nbformat_minor": 4
}
