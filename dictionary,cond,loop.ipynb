{
 "cells": [
  {
   "cell_type": "code",
   "execution_count": 3,
   "id": "8cc9f205-27a1-4629-a25e-be340632268a",
   "metadata": {},
   "outputs": [],
   "source": [
    "d={2}"
   ]
  },
  {
   "cell_type": "code",
   "execution_count": 2,
   "id": "2c2accc6-bb20-49fb-abec-5aa6f30b32e8",
   "metadata": {},
   "outputs": [
    {
     "data": {
      "text/plain": [
       "dict"
      ]
     },
     "execution_count": 2,
     "metadata": {},
     "output_type": "execute_result"
    }
   ],
   "source": [
    "type(d)"
   ]
  },
  {
   "cell_type": "code",
   "execution_count": 4,
   "id": "777114ee-207b-49c5-9b63-67bf4c4d7c89",
   "metadata": {},
   "outputs": [],
   "source": [
    "d1={'key':\"sudh\"}"
   ]
  },
  {
   "cell_type": "code",
   "execution_count": 5,
   "id": "7977a1a1-524d-4678-bb9f-3828b28da60a",
   "metadata": {},
   "outputs": [
    {
     "data": {
      "text/plain": [
       "{'key': 'sudh'}"
      ]
     },
     "execution_count": 5,
     "metadata": {},
     "output_type": "execute_result"
    }
   ],
   "source": [
    "d1"
   ]
  },
  {
   "cell_type": "code",
   "execution_count": 9,
   "id": "cf44dd4c-6b17-487f-b4cf-898e1365e0da",
   "metadata": {},
   "outputs": [],
   "source": [
    "d2={'nmae':\"kunal\",\"email\":\"kunal4zinc@gmail.com\",\"number\":\"8191911113\"}"
   ]
  },
  {
   "cell_type": "code",
   "execution_count": 10,
   "id": "15a87bb0-3bda-4b24-9d3f-558b6ef3a39b",
   "metadata": {},
   "outputs": [
    {
     "data": {
      "text/plain": [
       "{'nmae': 'kunal', 'email': 'kunal4zinc@gmail.com', 'number': '8191911113'}"
      ]
     },
     "execution_count": 10,
     "metadata": {},
     "output_type": "execute_result"
    }
   ],
   "source": [
    "d2"
   ]
  },
  {
   "cell_type": "code",
   "execution_count": 13,
   "id": "fef69edf-66f7-417e-b127-099f931aa955",
   "metadata": {},
   "outputs": [],
   "source": [
    "d3={234: \"kunal\",'_wer':\"kumar\",True:1234}"
   ]
  },
  {
   "cell_type": "code",
   "execution_count": 14,
   "id": "0198e2c6-15d7-445f-93e5-13ce42102cc3",
   "metadata": {},
   "outputs": [
    {
     "data": {
      "text/plain": [
       "{234: 'kunal', '_wer': 'kumar', True: 1234}"
      ]
     },
     "execution_count": 14,
     "metadata": {},
     "output_type": "execute_result"
    }
   ],
   "source": [
    "d3"
   ]
  },
  {
   "cell_type": "code",
   "execution_count": 17,
   "id": "7d273063-204e-4b92-9495-f5ccc0a8dc95",
   "metadata": {},
   "outputs": [
    {
     "data": {
      "text/plain": [
       "'kunal'"
      ]
     },
     "execution_count": 17,
     "metadata": {},
     "output_type": "execute_result"
    }
   ],
   "source": [
    "d3[234]"
   ]
  },
  {
   "cell_type": "code",
   "execution_count": 18,
   "id": "3901093c-cb9f-467f-b180-5d491c94f832",
   "metadata": {},
   "outputs": [
    {
     "data": {
      "text/plain": [
       "1234"
      ]
     },
     "execution_count": 18,
     "metadata": {},
     "output_type": "execute_result"
    }
   ],
   "source": [
    "d3[True]"
   ]
  },
  {
   "cell_type": "code",
   "execution_count": 19,
   "id": "2a6d38cd-6a42-4154-a727-23105981d1e4",
   "metadata": {},
   "outputs": [
    {
     "data": {
      "text/plain": [
       "1234"
      ]
     },
     "execution_count": 19,
     "metadata": {},
     "output_type": "execute_result"
    }
   ],
   "source": [
    "d3[1]"
   ]
  },
  {
   "cell_type": "code",
   "execution_count": 21,
   "id": "00e8c8e6-43d9-4c93-bc47-88e56755256d",
   "metadata": {},
   "outputs": [],
   "source": [
    "d4={'name':\"kunal\",'mail':\"kunal4@hm.com\",\"name\":\"kunalkumar\"}"
   ]
  },
  {
   "cell_type": "code",
   "execution_count": 22,
   "id": "7ed8c812-36cf-4434-86fa-680ecad11c95",
   "metadata": {},
   "outputs": [
    {
     "data": {
      "text/plain": [
       "'kunalkumar'"
      ]
     },
     "execution_count": 22,
     "metadata": {},
     "output_type": "execute_result"
    }
   ],
   "source": [
    "d4['name']"
   ]
  },
  {
   "cell_type": "code",
   "execution_count": 23,
   "id": "7f079479-e530-4856-a573-026f43359c7f",
   "metadata": {},
   "outputs": [],
   "source": [
    "d5={\"company\":\"pwskills\",\"courses\":[\"web dev\",\"data science\",\"java with dsa\"]}"
   ]
  },
  {
   "cell_type": "code",
   "execution_count": 24,
   "id": "5d648071-1cf8-4b0d-83ad-27a93419c5b7",
   "metadata": {},
   "outputs": [
    {
     "data": {
      "text/plain": [
       "{'company': 'pwskills',\n",
       " 'courses': ['web dev', 'data science', 'java with dsa']}"
      ]
     },
     "execution_count": 24,
     "metadata": {},
     "output_type": "execute_result"
    }
   ],
   "source": [
    "d5"
   ]
  },
  {
   "cell_type": "code",
   "execution_count": 25,
   "id": "89e680b1-f8af-46a6-9a6f-d73f74094052",
   "metadata": {},
   "outputs": [
    {
     "data": {
      "text/plain": [
       "'java with dsa'"
      ]
     },
     "execution_count": 25,
     "metadata": {},
     "output_type": "execute_result"
    }
   ],
   "source": [
    "d5['courses'][2]"
   ]
  },
  {
   "cell_type": "code",
   "execution_count": 28,
   "id": "7f4c7b90-e7cc-4f43-bf34-541d18a842f2",
   "metadata": {},
   "outputs": [
    {
     "ename": "SyntaxError",
     "evalue": "unterminated string literal (detected at line 1) (4011613666.py, line 1)",
     "output_type": "error",
     "traceback": [
      "\u001b[0;36m  Cell \u001b[0;32mIn[28], line 1\u001b[0;36m\u001b[0m\n\u001b[0;31m    d6={\"number\":[2,3,4,5,33,55,67],\"assignment\":(1,2,3,4,5,6)\"launch date\":{'28,12,25}}\u001b[0m\n\u001b[0m                                                                             ^\u001b[0m\n\u001b[0;31mSyntaxError\u001b[0m\u001b[0;31m:\u001b[0m unterminated string literal (detected at line 1)\n"
     ]
    }
   ],
   "source": [
    "d6={\"number\":[2,3,4,5,33,55,67],\"assignment\":(1,2,3,4,5,6)\"launch date\":{'28,12,25}}"
   ]
  },
  {
   "cell_type": "code",
   "execution_count": 27,
   "id": "431413b8-225a-4259-961e-83a23ec9b955",
   "metadata": {},
   "outputs": [
    {
     "data": {
      "text/plain": [
       "{'number': [2, 3, 4, 5, 33, 55, 67], 'assignment': (1, 2, 3, 4, 5, 6)}"
      ]
     },
     "execution_count": 27,
     "metadata": {},
     "output_type": "execute_result"
    }
   ],
   "source": [
    "d6"
   ]
  },
  {
   "cell_type": "code",
   "execution_count": 33,
   "id": "ba3d9e19-f049-45c4-be07-49a6743b1c44",
   "metadata": {},
   "outputs": [],
   "source": [
    "d6={\"number\":[2,3,4,5,33,55,67],\"assignment\":(1,2,3,4,5,6),\"launch date\":{28,12,25}}"
   ]
  },
  {
   "cell_type": "code",
   "execution_count": 34,
   "id": "f8673407-aecf-45db-aac8-4a423da81eb5",
   "metadata": {},
   "outputs": [
    {
     "data": {
      "text/plain": [
       "{'number': [2, 3, 4, 5, 33, 55, 67],\n",
       " 'assignment': (1, 2, 3, 4, 5, 6),\n",
       " 'launch date': {12, 25, 28}}"
      ]
     },
     "execution_count": 34,
     "metadata": {},
     "output_type": "execute_result"
    }
   ],
   "source": [
    "d6"
   ]
  },
  {
   "cell_type": "code",
   "execution_count": 35,
   "id": "ed49bccb-63ff-403a-9d72-b64f9b52271d",
   "metadata": {},
   "outputs": [],
   "source": [
    "d6['family']=[\"rashmi\",\"rishi\",\"aarav\"]"
   ]
  },
  {
   "cell_type": "code",
   "execution_count": 36,
   "id": "3c6ed537-845b-4517-b7d0-8130fc143946",
   "metadata": {},
   "outputs": [
    {
     "data": {
      "text/plain": [
       "{'number': [2, 3, 4, 5, 33, 55, 67],\n",
       " 'assignment': (1, 2, 3, 4, 5, 6),\n",
       " 'launch date': {12, 25, 28},\n",
       " 'family': ['rashmi', 'rishi', 'aarav']}"
      ]
     },
     "execution_count": 36,
     "metadata": {},
     "output_type": "execute_result"
    }
   ],
   "source": [
    "d6"
   ]
  },
  {
   "cell_type": "code",
   "execution_count": 37,
   "id": "1659fb09-8d39-4c0a-9111-d5c9869e566b",
   "metadata": {},
   "outputs": [],
   "source": [
    "del d6['number']"
   ]
  },
  {
   "cell_type": "code",
   "execution_count": 38,
   "id": "c018ae1f-2b68-4455-b747-bfc70f2e16a1",
   "metadata": {},
   "outputs": [
    {
     "data": {
      "text/plain": [
       "{'assignment': (1, 2, 3, 4, 5, 6),\n",
       " 'launch date': {12, 25, 28},\n",
       " 'family': ['rashmi', 'rishi', 'aarav']}"
      ]
     },
     "execution_count": 38,
     "metadata": {},
     "output_type": "execute_result"
    }
   ],
   "source": [
    "d6"
   ]
  },
  {
   "cell_type": "code",
   "execution_count": 39,
   "id": "5e521c4b-2d40-4040-aaf4-c4e30eb05259",
   "metadata": {},
   "outputs": [
    {
     "data": {
      "text/plain": [
       "<function dict.keys>"
      ]
     },
     "execution_count": 39,
     "metadata": {},
     "output_type": "execute_result"
    }
   ],
   "source": [
    "d6.keys()"
   ]
  },
  {
   "cell_type": "code",
   "execution_count": 40,
   "id": "6e31bc48-68c8-46b3-bdfe-5396c24b2727",
   "metadata": {},
   "outputs": [
    {
     "data": {
      "text/plain": [
       "{'assignment': (1, 2, 3, 4, 5, 6),\n",
       " 'launch date': {12, 25, 28},\n",
       " 'family': ['rashmi', 'rishi', 'aarav']}"
      ]
     },
     "execution_count": 40,
     "metadata": {},
     "output_type": "execute_result"
    }
   ],
   "source": [
    "d6"
   ]
  },
  {
   "cell_type": "code",
   "execution_count": 41,
   "id": "033d1d46-eb87-49f3-b368-4f3187d222a8",
   "metadata": {},
   "outputs": [
    {
     "data": {
      "text/plain": [
       "['assignment', 'launch date', 'family']"
      ]
     },
     "execution_count": 41,
     "metadata": {},
     "output_type": "execute_result"
    }
   ],
   "source": [
    "list(d6.keys())"
   ]
  },
  {
   "cell_type": "code",
   "execution_count": 42,
   "id": "7efb254c-e95e-4d93-878e-da9d1b80e682",
   "metadata": {},
   "outputs": [
    {
     "data": {
      "text/plain": [
       "[(1, 2, 3, 4, 5, 6), {12, 25, 28}, ['rashmi', 'rishi', 'aarav']]"
      ]
     },
     "execution_count": 42,
     "metadata": {},
     "output_type": "execute_result"
    }
   ],
   "source": [
    "list(d6.values())"
   ]
  },
  {
   "cell_type": "code",
   "execution_count": 43,
   "id": "0df46ee2-c50c-463f-9a79-5eedd3108396",
   "metadata": {},
   "outputs": [
    {
     "data": {
      "text/plain": [
       "[('assignment', (1, 2, 3, 4, 5, 6)),\n",
       " ('launch date', {12, 25, 28}),\n",
       " ('family', ['rashmi', 'rishi', 'aarav'])]"
      ]
     },
     "execution_count": 43,
     "metadata": {},
     "output_type": "execute_result"
    }
   ],
   "source": [
    "list(d6.items())"
   ]
  },
  {
   "cell_type": "code",
   "execution_count": 48,
   "id": "fea4fb45-045e-48fc-807d-6ad50e942698",
   "metadata": {},
   "outputs": [
    {
     "data": {
      "text/plain": [
       "(1, 2, 3, 4, 5, 6)"
      ]
     },
     "execution_count": 48,
     "metadata": {},
     "output_type": "execute_result"
    }
   ],
   "source": [
    "d6.pop('assignment')"
   ]
  },
  {
   "cell_type": "code",
   "execution_count": 49,
   "id": "37c2d99a-3fc1-43f1-8edd-34b95a6d34bb",
   "metadata": {},
   "outputs": [
    {
     "data": {
      "text/plain": [
       "['rashmi', 'rishi', 'aarav']"
      ]
     },
     "execution_count": 49,
     "metadata": {},
     "output_type": "execute_result"
    }
   ],
   "source": [
    "d6.pop('family')"
   ]
  },
  {
   "cell_type": "code",
   "execution_count": 50,
   "id": "340aa5c1-48c5-4be9-94ad-9003277559fd",
   "metadata": {},
   "outputs": [
    {
     "data": {
      "text/plain": [
       "{'launch date': {12, 25, 28}}"
      ]
     },
     "execution_count": 50,
     "metadata": {},
     "output_type": "execute_result"
    }
   ],
   "source": [
    "d6.copy()"
   ]
  },
  {
   "cell_type": "code",
   "execution_count": 73,
   "id": "45c236c4-f199-42f4-9c43-8507b4f595ef",
   "metadata": {},
   "outputs": [
    {
     "name": "stdin",
     "output_type": "stream",
     "text": [
      "enter your marks 45\n"
     ]
    },
    {
     "name": "stdout",
     "output_type": "stream",
     "text": [
      "part of a2 batch\n"
     ]
    }
   ],
   "source": [
    "marks= int( input(\"enter your marks\"))\n",
    "if marks >= 80:\n",
    "    print(\"part of A0 batch\")\n",
    "elif marks>=60 and marks<80:\n",
    "    print(\"part of a1 batch\")\n",
    "elif marks>=40 and marks<60:\n",
    "    print(\"part of a2 batch\")\n",
    "else:\n",
    "    print(\"part of a3 batch\")"
   ]
  },
  {
   "cell_type": "code",
   "execution_count": null,
   "id": "81a81bbe-8b07-4c1a-bca8-e2b6cb0e264d",
   "metadata": {},
   "outputs": [],
   "source": [
    "-10>=80"
   ]
  },
  {
   "cell_type": "code",
   "execution_count": 71,
   "id": "c1b30389-815d-4252-b256-fc8802a61062",
   "metadata": {},
   "outputs": [
    {
     "name": "stdin",
     "output_type": "stream",
     "text": [
      "enter your marks 45\n"
     ]
    }
   ],
   "source": [
    "marks= int(input(\"enter your marks\"))"
   ]
  },
  {
   "cell_type": "code",
   "execution_count": 72,
   "id": "91dac6ad-07b7-497f-b2b2-e364a1551b97",
   "metadata": {},
   "outputs": [
    {
     "data": {
      "text/plain": [
       "45"
      ]
     },
     "execution_count": 72,
     "metadata": {},
     "output_type": "execute_result"
    }
   ],
   "source": [
    "marks"
   ]
  },
  {
   "cell_type": "code",
   "execution_count": 74,
   "id": "44acebc6-e6df-4b84-a05a-c1809b2b7a5f",
   "metadata": {},
   "outputs": [
    {
     "name": "stdin",
     "output_type": "stream",
     "text": [
      "enter your marks 100\n"
     ]
    },
    {
     "name": "stdout",
     "output_type": "stream",
     "text": [
      "part of A0 batch\n"
     ]
    }
   ],
   "source": [
    "marks= int( input(\"enter your marks\"))\n",
    "if marks >= 80:\n",
    "    print(\"part of A0 batch\")\n",
    "elif marks>=60 and marks<80:\n",
    "    print(\"part of a1 batch\")\n",
    "elif marks>=40 and marks<60:\n",
    "    print(\"part of a2 batch\")\n",
    "else:\n",
    "    print(\"part of a3 batch\")"
   ]
  },
  {
   "cell_type": "code",
   "execution_count": 75,
   "id": "cb2bd06c-26dc-4690-8818-d38fcd3b4833",
   "metadata": {},
   "outputs": [
    {
     "data": {
      "text/plain": [
       "int"
      ]
     },
     "execution_count": 75,
     "metadata": {},
     "output_type": "execute_result"
    }
   ],
   "source": [
    "type(marks)"
   ]
  },
  {
   "cell_type": "code",
   "execution_count": 79,
   "id": "d58d7b50-5ce5-428f-be1d-a682638bd74e",
   "metadata": {},
   "outputs": [
    {
     "name": "stdin",
     "output_type": "stream",
     "text": [
      "enter price 25\n"
     ]
    },
    {
     "name": "stdout",
     "output_type": "stream",
     "text": [
      "i will  purchase\n"
     ]
    }
   ],
   "source": [
    "price= int( input(\"enter price\"))\n",
    "if price >1000:\n",
    "    print(\"i will not purchase\")\n",
    "else :\n",
    "        print(\"i will  purchase\")"
   ]
  },
  {
   "cell_type": "code",
   "execution_count": 84,
   "id": "60cfbc0b-7a63-44ba-9bdf-b75b12d51ce2",
   "metadata": {},
   "outputs": [
    {
     "name": "stdin",
     "output_type": "stream",
     "text": [
      "enter price 20\n"
     ]
    },
    {
     "name": "stdout",
     "output_type": "stream",
     "text": [
      "its ok\n"
     ]
    }
   ],
   "source": [
    "price= int( input(\"enter price\"))\n",
    "if price >1000:\n",
    "    print(\"i will not purchase\")\n",
    "if price >5000:\n",
    "        print(\"this is too much\")\n",
    "elif price<2000:\n",
    "    print(\"its ok\")\n",
    "elif price<1000:\n",
    "    print(\"will not purchase\")\n",
    "    "
   ]
  },
  {
   "cell_type": "code",
   "execution_count": 85,
   "id": "639e5785-9f58-4688-8477-a00c8930e1e1",
   "metadata": {},
   "outputs": [],
   "source": [
    "l=[1,2,3,3,4,5,6,7,8]"
   ]
  },
  {
   "cell_type": "code",
   "execution_count": 87,
   "id": "fe141d82-1792-4ddd-97e1-843b7e36406b",
   "metadata": {},
   "outputs": [
    {
     "data": {
      "text/plain": [
       "2"
      ]
     },
     "execution_count": 87,
     "metadata": {},
     "output_type": "execute_result"
    }
   ],
   "source": [
    "l[0+1]"
   ]
  },
  {
   "cell_type": "code",
   "execution_count": 89,
   "id": "f4f5b351-b2ee-4d01-a320-231c08a2984c",
   "metadata": {},
   "outputs": [],
   "source": [
    "l1=[]"
   ]
  },
  {
   "cell_type": "code",
   "execution_count": 90,
   "id": "355f515e-66a8-4126-b699-dc801bd6c8c5",
   "metadata": {},
   "outputs": [],
   "source": [
    "l1.append(l[0]+1)"
   ]
  },
  {
   "cell_type": "code",
   "execution_count": 91,
   "id": "49ffb4cf-0f1d-4821-b3c4-4d51572eb18a",
   "metadata": {},
   "outputs": [
    {
     "data": {
      "text/plain": [
       "[2]"
      ]
     },
     "execution_count": 91,
     "metadata": {},
     "output_type": "execute_result"
    }
   ],
   "source": [
    "l1"
   ]
  },
  {
   "cell_type": "code",
   "execution_count": 105,
   "id": "2c5216e9-f18b-4131-9acc-c52049aee8b6",
   "metadata": {},
   "outputs": [],
   "source": [
    "l=[1,2,3,3,4,5,6,7,8]"
   ]
  },
  {
   "cell_type": "code",
   "execution_count": 109,
   "id": "0a09007e-eea5-459f-b5b7-f8687e498def",
   "metadata": {},
   "outputs": [
    {
     "name": "stdout",
     "output_type": "stream",
     "text": [
      "2\n",
      "3\n",
      "4\n",
      "4\n",
      "5\n",
      "6\n",
      "7\n",
      "8\n",
      "9\n"
     ]
    }
   ],
   "source": [
    "l1=[]\n",
    "for i in l:\n",
    "    print(i+1)\n",
    "    l1.append(i+1)\n",
    "    l1"
   ]
  },
  {
   "cell_type": "markdown",
   "id": "6a3289e8-d519-4885-b1b4-a3627843efeb",
   "metadata": {},
   "source": [
    "l"
   ]
  },
  {
   "cell_type": "code",
   "execution_count": 110,
   "id": "f65d1bd4-8d40-425a-8e9a-4450cfd24481",
   "metadata": {},
   "outputs": [
    {
     "data": {
      "text/plain": [
       "[1, 2, 3, 3, 4, 5, 6, 7, 8]"
      ]
     },
     "execution_count": 110,
     "metadata": {},
     "output_type": "execute_result"
    }
   ],
   "source": [
    "l"
   ]
  },
  {
   "cell_type": "code",
   "execution_count": 111,
   "id": "4631a509-97b9-4427-9c76-3a4221a7721e",
   "metadata": {},
   "outputs": [
    {
     "ename": "SyntaxError",
     "evalue": "incomplete input (740559718.py, line 1)",
     "output_type": "error",
     "traceback": [
      "\u001b[0;36m  Cell \u001b[0;32mIn[111], line 1\u001b[0;36m\u001b[0m\n\u001b[0;31m    l=[\u001b[0m\n\u001b[0m       ^\u001b[0m\n\u001b[0;31mSyntaxError\u001b[0m\u001b[0;31m:\u001b[0m incomplete input\n"
     ]
    }
   ],
   "source": [
    "l=["
   ]
  },
  {
   "cell_type": "code",
   "execution_count": 112,
   "id": "2059b385-cbf6-48ef-9a53-6cd968c77a6f",
   "metadata": {},
   "outputs": [],
   "source": [
    "l=[\"sudh\",\"kumar\",\"pwskills\",\"course\"]"
   ]
  },
  {
   "cell_type": "code",
   "execution_count": 117,
   "id": "64155ca9-f3f9-4033-8a4a-859bdc6ad627",
   "metadata": {},
   "outputs": [
    {
     "name": "stdout",
     "output_type": "stream",
     "text": [
      "sudh\n",
      "kumar\n",
      "pwskills\n",
      "course\n"
     ]
    }
   ],
   "source": [
    "l1=[]\n",
    "for i in l:\n",
    "    print(i)\n",
    "    l1.append(i.upper())"
   ]
  },
  {
   "cell_type": "code",
   "execution_count": 118,
   "id": "b7b161af-3791-44b0-b8f8-b8ad0169bdf5",
   "metadata": {},
   "outputs": [
    {
     "data": {
      "text/plain": [
       "['SUDH', 'KUMAR', 'PWSKILLS', 'COURSE']"
      ]
     },
     "execution_count": 118,
     "metadata": {},
     "output_type": "execute_result"
    }
   ],
   "source": [
    "l1"
   ]
  },
  {
   "cell_type": "code",
   "execution_count": 119,
   "id": "fbf4cc4a-6298-4300-be95-37819d4fe017",
   "metadata": {},
   "outputs": [],
   "source": [
    "l=[1,2,3,4,4,\"sudh\",\"kumar\",324,34.456,\"abc\"]"
   ]
  },
  {
   "cell_type": "code",
   "execution_count": 120,
   "id": "ddc6d0d0-05f5-4340-802f-b1fb341d5858",
   "metadata": {},
   "outputs": [
    {
     "data": {
      "text/plain": [
       "[1, 2, 3, 4, 4, 'sudh', 'kumar', 324, 34.456, 'abc']"
      ]
     },
     "execution_count": 120,
     "metadata": {},
     "output_type": "execute_result"
    }
   ],
   "source": [
    "l"
   ]
  },
  {
   "cell_type": "code",
   "execution_count": 123,
   "id": "fce45927-49aa-4695-86ec-a6c2ebb6133f",
   "metadata": {},
   "outputs": [],
   "source": [
    "l1_num=[]\n",
    "l2_str=[]\n",
    "for i in l:\n",
    "    if type(i)==int or type(i)==float:\n",
    "        l1_num.append(i)\n",
    "    else :\n",
    "            l2_str.append(i)\n",
    "    "
   ]
  },
  {
   "cell_type": "code",
   "execution_count": 124,
   "id": "020a127b-3de9-4856-975c-21d2e4106093",
   "metadata": {},
   "outputs": [
    {
     "data": {
      "text/plain": [
       "[1, 2, 3, 4, 4, 324, 34.456]"
      ]
     },
     "execution_count": 124,
     "metadata": {},
     "output_type": "execute_result"
    }
   ],
   "source": [
    "l1_num"
   ]
  },
  {
   "cell_type": "code",
   "execution_count": 125,
   "id": "02dfe386-7764-48a3-845c-413b1f24e9bc",
   "metadata": {},
   "outputs": [
    {
     "data": {
      "text/plain": [
       "['sudh', 'kumar', 'abc']"
      ]
     },
     "execution_count": 125,
     "metadata": {},
     "output_type": "execute_result"
    }
   ],
   "source": [
    "l2_str"
   ]
  },
  {
   "cell_type": "code",
   "execution_count": null,
   "id": "945055d3-c42e-4f70-9213-06b3a0c9d0b1",
   "metadata": {},
   "outputs": [],
   "source": []
  }
 ],
 "metadata": {
  "kernelspec": {
   "display_name": "Python 3 (ipykernel)",
   "language": "python",
   "name": "python3"
  },
  "language_info": {
   "codemirror_mode": {
    "name": "ipython",
    "version": 3
   },
   "file_extension": ".py",
   "mimetype": "text/x-python",
   "name": "python",
   "nbconvert_exporter": "python",
   "pygments_lexer": "ipython3",
   "version": "3.10.8"
  }
 },
 "nbformat": 4,
 "nbformat_minor": 5
}
